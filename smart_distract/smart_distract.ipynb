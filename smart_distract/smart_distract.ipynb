{
 "cells": [
  {
   "cell_type": "markdown",
   "metadata": {},
   "source": [
    "# How Long Will Your Smartphone Distract You From Family Dinner?"
   ]
  },
  {
   "cell_type": "markdown",
   "metadata": {},
   "source": [
    "https://fivethirtyeight.com/features/how-long-will-your-smartphone-distract-you-from-family-dinner/\n",
    "\n",
    "You’ve just finished unwrapping your holiday presents. You and your sister got brand-new smartphones, opening them at the same moment. You immediately both start doing important tasks on the Internet, and each task you do takes one to five minutes. (All tasks take exactly one, two, three, four or five minutes, with an equal probability of each). After each task, you have a brief moment of clarity. During these, you remember that you and your sister are supposed to join the rest of the family for dinner and that you promised each other you’d arrive together. You ask if your sister is ready to eat, but if she is still in the middle of a task, she asks for time to finish it. In that case, you now have time to kill, so you start a new task (again, it will take one, two, three, four or five minutes, exactly, with an equal probability of each). If she asks you if it’s time for dinner while you’re still busy, you ask for time to finish up and she starts a new task and so on. From the moment you first open your gifts, how long on average does it take for both of you to be between tasks at the same time so you can finally eat? (You can assume the “moments of clarity” are so brief as to take no measurable time at all.)"
   ]
  },
  {
   "cell_type": "code",
   "execution_count": 72,
   "metadata": {},
   "outputs": [],
   "source": [
    "#import numpy\n",
    "import numpy as np"
   ]
  },
  {
   "cell_type": "code",
   "execution_count": 73,
   "metadata": {},
   "outputs": [
    {
     "data": {
      "text/plain": [
       "3"
      ]
     },
     "execution_count": 73,
     "metadata": {},
     "output_type": "execute_result"
    }
   ],
   "source": [
    "#create a random numerber generator to choose numbers 1-5\n",
    "np.random.randint(1,6)"
   ]
  },
  {
   "cell_type": "code",
   "execution_count": 74,
   "metadata": {},
   "outputs": [
    {
     "name": "stdout",
     "output_type": "stream",
     "text": [
      "3 3 1 2\n"
     ]
    }
   ],
   "source": [
    "#start first task which takes between 1 and 5 mins for both you (x) and sister (y)\n",
    "#track number\n",
    "x = np.random.randint(1,6)\n",
    "y = np.random.randint(1,6)\n",
    "\n",
    "#create loop which tests to see if you're both done. \n",
    "#If one person finishes before the other, that person starts another task.\n",
    "\n",
    "while x != y:\n",
    "    if y > x:\n",
    "        x += np.random.randint(1,6)\n",
    "    elif x > y:\n",
    "        y += np.random.randint(1,6)\n"
   ]
  },
  {
   "cell_type": "code",
   "execution_count": 81,
   "metadata": {},
   "outputs": [],
   "source": [
    "#create a loop to do this 100,000 times\n",
    "#track results in arrays.\n",
    "ax = []\n",
    "ay = []\n",
    "\n",
    "for _ in range(100000):\n",
    "    #start first task which takes between 1 and 5 mins for both you (x) and sister (y)\n",
    "    #track number\n",
    "    x = np.random.randint(1,6)\n",
    "    y = np.random.randint(1,6)\n",
    "    \n",
    "    #create loop which tests to see if you're both done. \n",
    "    #If one person finishes before the other, that person starts another task.\n",
    "    #track total time using x and y. When x equals y, either/both represent the time to complete\n",
    "\n",
    "    while x != y:\n",
    "        if y > x:\n",
    "            x += np.random.randint(1,6)\n",
    "        elif x > y:\n",
    "            y += np.random.randint(1,6)\n",
    "    \n",
    "    ax = np.append(ax, x)\n",
    "    ay = np.append(ay, y)\n",
    "\n"
   ]
  },
  {
   "cell_type": "code",
   "execution_count": 100,
   "metadata": {},
   "outputs": [],
   "source": [
    "#create a distribution of averages using the sample we created.\n",
    "mean_arr = []\n",
    "\n",
    "for _ in range(10000):\n",
    "    mean_arr = np.append(mean_arr, np.random.choice(ax, 10000, replace = True).mean())"
   ]
  },
  {
   "cell_type": "code",
   "execution_count": 101,
   "metadata": {},
   "outputs": [
    {
     "data": {
      "text/plain": [
       "8.99630608"
      ]
     },
     "execution_count": 101,
     "metadata": {},
     "output_type": "execute_result"
    }
   ],
   "source": [
    "mean_arr.mean()"
   ]
  },
  {
   "cell_type": "code",
   "execution_count": 103,
   "metadata": {},
   "outputs": [
    {
     "data": {
      "image/png": "[encoded data removed]",
      "text/plain": [
       "<Figure size 432x288 with 1 Axes>"
      ]
     },
     "metadata": {},
     "output_type": "display_data"
    }
   ],
   "source": [
    "import matplotlib.pyplot as plt\n",
    "plt.hist(mean_arr);"
   ]
  },
  {
   "cell_type": "code",
   "execution_count": 105,
   "metadata": {},
   "outputs": [
    {
     "data": {
      "text/plain": [
       "(8.851395, 9.1387025)"
      ]
     },
     "execution_count": 105,
     "metadata": {},
     "output_type": "execute_result"
    }
   ],
   "source": [
    "#confidence interval 95%\n",
    "np.percentile(mean_arr, 2.5), np.percentile(mean_arr, 97.5)\n"
   ]
  },
  {
   "cell_type": "markdown",
   "metadata": {},
   "source": [
    "We can say with 95% confidence that the average lies between 8.85 and 9.13 minutes. Since each task takes a integer as the time to complete, I think it is resonable to say that the average time to complete is EXACTLY 9 minutes."
   ]
  }
 ],
 "metadata": {
  "kernelspec": {
   "display_name": "Python [conda env:anaconda3]",
   "language": "python",
   "name": "conda-env-anaconda3-py"
  },
  "language_info": {
   "codemirror_mode": {
    "name": "ipython",
    "version": 3
   },
   "file_extension": ".py",
   "mimetype": "text/x-python",
   "name": "python",
   "nbconvert_exporter": "python",
   "pygments_lexer": "ipython3",
   "version": "3.6.5"
  }
 },
 "nbformat": 4,
 "nbformat_minor": 2
}
